{
  "nbformat": 4,
  "nbformat_minor": 0,
  "metadata": {
    "colab": {
      "name": "template-prep.ipynb",
      "version": "0.3.2",
      "provenance": [],
      "collapsed_sections": []
    },
    "kernelspec": {
      "name": "python3",
      "display_name": "Python 3"
    },
    "accelerator": "GPU"
  },
  "cells": [
    {
      "cell_type": "markdown",
      "metadata": {
        "id": "view-in-github",
        "colab_type": "text"
      },
      "source": [
        "[View in Colaboratory](https://colab.research.google.com/github/Hoiy/kaggle-colab-env/blob/master/template_prep.ipynb)"
      ]
    },
    {
      "metadata": {
        "id": "GWynwxczjulq",
        "colab_type": "code",
        "colab": {
          "base_uri": "https://localhost:8080/",
          "height": 85
        },
        "outputId": "09eee1f3-d045-43c7-84a4-b2879a064455"
      },
      "cell_type": "code",
      "source": [
        "!kaggle competitions download -f train.csv.zip --path ./data\n",
        "!kaggle competitions download -f test.csv.zip --path ./data"
      ],
      "execution_count": 1,
      "outputs": [
        {
          "output_type": "stream",
          "text": [
            "Using competition: avito-demand-prediction\n",
            "train.csv.zip: Skipping, found more recently modified local copy (use --force to force download)\n",
            "Using competition: avito-demand-prediction\n",
            "test.csv.zip: Skipping, found more recently modified local copy (use --force to force download)\n"
          ],
          "name": "stdout"
        }
      ]
    },
    {
      "metadata": {
        "id": "rGL2W37Qi10r",
        "colab_type": "code",
        "colab": {
          "base_uri": "https://localhost:8080/",
          "height": 34
        },
        "outputId": "7cf675d4-f11d-4436-f1d1-264fd57cb06b"
      },
      "cell_type": "code",
      "source": [
        "import pandas as pd\n",
        "import numpy as np\n",
        "import os\n",
        "import dotenv\n",
        "\n",
        "dotenv.load_dotenv('.env')"
      ],
      "execution_count": 26,
      "outputs": [
        {
          "output_type": "execute_result",
          "data": {
            "text/plain": [
              "True"
            ]
          },
          "metadata": {
            "tags": []
          },
          "execution_count": 26
        }
      ]
    },
    {
      "metadata": {
        "id": "FY5p9vjFi8iO",
        "colab_type": "code",
        "colab": {}
      },
      "cell_type": "code",
      "source": [
        "types = ['train', 'test']\n",
        "dfs = {t:pd.read_csv('./data/%s.csv.zip'%t) for t in types}"
      ],
      "execution_count": 0,
      "outputs": []
    },
    {
      "metadata": {
        "id": "dsUSltWAjF8F",
        "colab_type": "code",
        "colab": {}
      },
      "cell_type": "code",
      "source": [
        "for key in dfs:\n",
        "  dfs[key].image_top_1 = dfs[key].image_top_1.fillna(dfs[key].image_top_1.max()+1).astype(int)"
      ],
      "execution_count": 0,
      "outputs": []
    },
    {
      "metadata": {
        "id": "i4g2T-sFjqfp",
        "colab_type": "code",
        "colab": {
          "base_uri": "https://localhost:8080/",
          "height": 527
        },
        "outputId": "b9b2de20-5b2b-422b-de13-70627a001799"
      },
      "cell_type": "code",
      "source": [
        "for key in dfs:\n",
        "  path = './data/%s_prep.snappy.parquet'%key\n",
        "  dfs[key].to_parquet(path)\n",
        "  !gsutil cp {path} gs://{os.environ['GCP_BUCKET']}/{key}_prep.snappy.parquet"
      ],
      "execution_count": 37,
      "outputs": [
        {
          "output_type": "stream",
          "text": [
            "Copying file://./data/train_prep.snappy.parquet [Content-Type=application/octet-stream]...\r\n",
            "/ [0 files][    0.0 B/431.3 MiB]                                                \r==> NOTE: You are uploading one or more large file(s), which would run\r\n",
            "significantly faster if you enable parallel composite uploads. This\r\n",
            "feature can be enabled by editing the\r\n",
            "\"parallel_composite_upload_threshold\" value in your .boto\r\n",
            "configuration file. However, note that if you do this large files will\r\n",
            "be uploaded as `composite objects\r\n",
            "<https://cloud.google.com/storage/docs/composite-objects>`_,which\r\n",
            "means that any user who downloads such objects will need to have a\r\n",
            "compiled crcmod installed (see \"gsutil help crcmod\"). This is because\r\n",
            "without a compiled crcmod, computing checksums on composite objects is\r\n",
            "so slow that gsutil disables downloads of composite objects.\r\n",
            "\n",
            "/ [1 files][431.3 MiB/431.3 MiB]                                                \n",
            "Operation completed over 1 objects/431.3 MiB.                                    \n",
            "Copying file://./data/test_prep.snappy.parquet [Content-Type=application/octet-stream]...\n",
            "==> NOTE: You are uploading one or more large file(s), which would run\n",
            "significantly faster if you enable parallel composite uploads. This\n",
            "feature can be enabled by editing the\n",
            "\"parallel_composite_upload_threshold\" value in your .boto\n",
            "configuration file. However, note that if you do this large files will\n",
            "be uploaded as `composite objects\n",
            "<https://cloud.google.com/storage/docs/composite-objects>`_,which\n",
            "means that any user who downloads such objects will need to have a\n",
            "compiled crcmod installed (see \"gsutil help crcmod\"). This is because\n",
            "without a compiled crcmod, computing checksums on composite objects is\n",
            "so slow that gsutil disables downloads of composite objects.\n",
            "\n",
            "|\n",
            "Operation completed over 1 objects/152.2 MiB.                                    \n"
          ],
          "name": "stdout"
        }
      ]
    }
  ]
}