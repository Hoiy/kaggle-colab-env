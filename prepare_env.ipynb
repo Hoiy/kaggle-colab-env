{
  "nbformat": 4,
  "nbformat_minor": 0,
  "metadata": {
    "colab": {
      "name": "prepare_env.ipynb",
      "version": "0.3.2",
      "provenance": [],
      "collapsed_sections": []
    },
    "kernelspec": {
      "name": "python3",
      "display_name": "Python 3"
    },
    "accelerator": "GPU"
  },
  "cells": [
    {
      "metadata": {
        "id": "Ob9F-DO4ckD_",
        "colab_type": "code",
        "colab": {
          "base_uri": "https://localhost:8080/",
          "height": 496
        },
        "outputId": "dfe71ec8-00fc-4b8f-e83b-912db21893b0"
      },
      "cell_type": "code",
      "source": [
        "!pip install kaggle"
      ],
      "execution_count": 1,
      "outputs": [
        {
          "output_type": "stream",
          "text": [
            "Cloning into 'mlkit'...\n",
            "remote: Counting objects: 33, done.\u001b[K\n",
            "remote: Compressing objects: 100% (25/25), done.\u001b[K\n",
            "remote: Total 33 (delta 2), reused 33 (delta 2), pack-reused 0\u001b[K\n",
            "Unpacking objects: 100% (33/33), done.\n",
            "Processing /content/mlkit\n",
            "Building wheels for collected packages: mlkit\n",
            "  Running setup.py bdist_wheel for mlkit ... \u001b[?25l-\b \bdone\n",
            "\u001b[?25h  Stored in directory: /tmp/pip-ephem-wheel-cache-4qc96sku/wheels/2d/63/b8/b1f6c356ae731aaab727180cd2c658b91486884d32db8f3226\n",
            "Successfully built mlkit\n",
            "Installing collected packages: mlkit\n",
            "Successfully installed mlkit-0.1\n",
            "Collecting kaggle\n",
            "  Downloading https://files.pythonhosted.org/packages/74/9b/a6bdc22939c32e1cecc086a972b5e3f7c991b73d74dab0e5d82ff80c5968/kaggle-1.3.8.tar.gz\n",
            "Requirement already satisfied: urllib3>=1.15 in /usr/local/lib/python3.6/dist-packages (from kaggle) (1.22)\n",
            "Requirement already satisfied: six>=1.10 in /usr/local/lib/python3.6/dist-packages (from kaggle) (1.11.0)\n",
            "Requirement already satisfied: certifi in /usr/local/lib/python3.6/dist-packages (from kaggle) (2018.4.16)\n",
            "Requirement already satisfied: python-dateutil in /usr/local/lib/python3.6/dist-packages (from kaggle) (2.5.3)\n",
            "Requirement already satisfied: requests in /usr/local/lib/python3.6/dist-packages (from kaggle) (2.18.4)\n",
            "Requirement already satisfied: idna<2.7,>=2.5 in /usr/local/lib/python3.6/dist-packages (from requests->kaggle) (2.6)\n",
            "Requirement already satisfied: chardet<3.1.0,>=3.0.2 in /usr/local/lib/python3.6/dist-packages (from requests->kaggle) (3.0.4)\n",
            "Building wheels for collected packages: kaggle\n",
            "  Running setup.py bdist_wheel for kaggle ... \u001b[?25l-\b \b\\\b \bdone\n",
            "\u001b[?25h  Stored in directory: /content/.cache/pip/wheels/d6/3c/92/375decc0cf0a65b281db3cca9b8e21dc27b8ebc4d1ce29afca\n",
            "Successfully built kaggle\n",
            "Installing collected packages: kaggle\n",
            "Successfully installed kaggle-1.3.8\n"
          ],
          "name": "stdout"
        }
      ]
    },
    {
      "metadata": {
        "id": "GtNp41K2dla0",
        "colab_type": "code",
        "colab": {
          "base_uri": "https://localhost:8080/",
          "height": 85
        },
        "outputId": "bd5c4038-28b1-46ac-92cc-7fe764753e61"
      },
      "cell_type": "code",
      "source": [
        "from google.colab import auth\n",
        "auth.authenticate_user()\n",
        "\n",
        "project_id = 'kaggle-195702'\n",
        "bucket_name = 'kaggle-195720-avito-demand-prediction'\n",
        "\n",
        "!gcloud config set project {project_id}\n",
        "!gsutil cp gs://{bucket_name}/kaggle.json /content/.kaggle/kaggle.json\n",
        "!chmod 600 /content/.kaggle/kaggle.json"
      ],
      "execution_count": 9,
      "outputs": [
        {
          "output_type": "stream",
          "text": [
            "Updated property [core/project].\n",
            "Copying gs://kaggle-195720-avito-demand-prediction/kaggle.json...\n",
            "/ [1 files][  109.0 B/  109.0 B]                                                \n",
            "Operation completed over 1 objects/109.0 B.                                      \n"
          ],
          "name": "stdout"
        }
      ]
    },
    {
      "metadata": {
        "id": "g7Cn2M5-dlbg",
        "colab_type": "code",
        "colab": {
          "base_uri": "https://localhost:8080/",
          "height": 119
        },
        "outputId": "d0af4aa1-2e66-46a7-8fc9-ec2d27b5437c"
      },
      "cell_type": "code",
      "source": [
        "!kaggle competitions download -f train.csv.zip --path ./data\n",
        "!kaggle competitions download -f test.csv.zip --path ./data\n",
        "!kaggle competitions download -f sample_submission.csv --path ./data"
      ],
      "execution_count": 12,
      "outputs": [
        {
          "output_type": "stream",
          "text": [
            "Using competition: avito-demand-prediction\n",
            "train.csv.zip: Skipping, found more recently modified local copy (use --force to force download)\n",
            "Using competition: avito-demand-prediction\n",
            "test.csv.zip: Skipping, found more recently modified local copy (use --force to force download)\n",
            "Using competition: avito-demand-prediction\n",
            "sample_submission.csv: Downloaded 8MB of 8MB to ./data\n"
          ],
          "name": "stdout"
        }
      ]
    }
  ]
}