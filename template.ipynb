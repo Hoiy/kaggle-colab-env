{
  "nbformat": 4,
  "nbformat_minor": 0,
  "metadata": {
    "colab": {
      "name": "template.ipynb",
      "version": "0.3.2",
      "provenance": [],
      "collapsed_sections": []
    },
    "kernelspec": {
      "name": "python3",
      "display_name": "Python 3"
    },
    "accelerator": "GPU"
  },
  "cells": [
    {
      "cell_type": "markdown",
      "metadata": {
        "id": "view-in-github",
        "colab_type": "text"
      },
      "source": [
        "[View in Colaboratory](https://colab.research.google.com/github/Hoiy/kaggle-colab-env/blob/master/template.ipynb)"
      ]
    },
    {
      "metadata": {
        "id": "Vfabwzu_xQQk",
        "colab_type": "code",
        "colab": {
          "base_uri": "https://localhost:8080/",
          "height": 34
        },
        "outputId": "b8b33a56-b17a-4ded-a89a-d45f35bc2810"
      },
      "cell_type": "code",
      "source": [
        "import pandas as pd\n",
        "import dotenv\n",
        "import os\n",
        "\n",
        "dotenv.load_dotenv('.env')"
      ],
      "execution_count": 1,
      "outputs": [
        {
          "output_type": "execute_result",
          "data": {
            "text/plain": [
              "True"
            ]
          },
          "metadata": {
            "tags": []
          },
          "execution_count": 1
        }
      ]
    },
    {
      "metadata": {
        "id": "62RQrn89xogg",
        "colab_type": "code",
        "colab": {
          "base_uri": "https://localhost:8080/",
          "height": 119
        },
        "outputId": "d0c8fd74-0022-4873-dea8-1a303fe6855b"
      },
      "cell_type": "code",
      "source": [
        "!gsutil cp gs://{os.environ['GCP_BUCKET']}/train_prep.snappy.parquet ./data\n",
        "!gsutil cp gs://{os.environ['GCP_BUCKET']}/test_prep.snappy.parquet ./data\n",
        "!kaggle competitions download -f sample_submission.csv --path ./data"
      ],
      "execution_count": 5,
      "outputs": [
        {
          "output_type": "stream",
          "text": [
            "Copying gs://kaggle-195720-avito-demand-prediction/train_prep.snappy.parquet...\n",
            "\\ [1 files][431.3 MiB/431.3 MiB]                                                \n",
            "Operation completed over 1 objects/431.3 MiB.                                    \n",
            "Copying gs://kaggle-195720-avito-demand-prediction/test_prep.snappy.parquet...\n",
            "/ [1 files][152.2 MiB/152.2 MiB]                                                \n",
            "Operation completed over 1 objects/152.2 MiB.                                    \n"
          ],
          "name": "stdout"
        }
      ]
    },
    {
      "metadata": {
        "id": "FY5p9vjFi8iO",
        "colab_type": "code",
        "colab": {}
      },
      "cell_type": "code",
      "source": [
        "train = pd.read_parquet('./data/train_prep.snappy.parquet')\n",
        "test = pd.read_parquet('./data/test_prep.snappy.parquet')\n",
        "submission = pd.read_csv('./data/sample_submission.csv')"
      ],
      "execution_count": 0,
      "outputs": []
    },
    {
      "metadata": {
        "id": "dsUSltWAjF8F",
        "colab_type": "code",
        "colab": {
          "base_uri": "https://localhost:8080/",
          "height": 34
        },
        "outputId": "82d030a7-9a05-4a72-db36-d7895851ad94"
      },
      "cell_type": "code",
      "source": [
        "train.shape, test.shape"
      ],
      "execution_count": 17,
      "outputs": [
        {
          "output_type": "execute_result",
          "data": {
            "text/plain": [
              "((1503424, 18), (508438, 17))"
            ]
          },
          "metadata": {
            "tags": []
          },
          "execution_count": 17
        }
      ]
    },
    {
      "metadata": {
        "id": "HGt6jROdledZ",
        "colab_type": "code",
        "colab": {
          "base_uri": "https://localhost:8080/",
          "height": 306
        },
        "outputId": "63218d71-e8ba-4e27-b9d2-a498f8e9b53e"
      },
      "cell_type": "code",
      "source": [
        "from keras.models import Model\n",
        "from keras.layers import Dense, Embedding, Input, Flatten\n",
        "from keras.layers import LSTM, Bidirectional, GlobalMaxPool1D, Dropout, GRU, Conv1D, Reshape, MaxPooling1D, Concatenate\n",
        "from keras.callbacks import EarlyStopping, ModelCheckpoint\n",
        "from keras.regularizers import l2\n",
        "from keras.constraints import non_neg, unit_norm\n",
        "import keras.backend as K\n",
        "from keras.metrics import mse\n",
        "import tensorflow as tf\n",
        "\n",
        "def rmse(y_true, y_pred):\n",
        "    # bug when K.sqrt(mse(y_true, y_pred))\n",
        "    return tf.sqrt(tf.reduce_mean(tf.square(tf.subtract(y_true, y_pred))))\n",
        "\n",
        "def build_model():\n",
        "    inp = Input(shape=(1, ))\n",
        "    emb = Embedding(train.image_top_1.max()+1, 8)(inp)\n",
        "    emb = Flatten()(emb)\n",
        "    hidden = Dense(10, activation='relu')(emb)\n",
        "    out = Dense(1, activation=\"sigmoid\")(hidden)\n",
        "    \n",
        "    model = Model(inputs=inp, outputs=out)\n",
        "    model.compile(loss=rmse,\n",
        "                  optimizer='adam')\n",
        "    return model\n",
        "\n",
        "model = build_model()\n",
        "model.summary()"
      ],
      "execution_count": 18,
      "outputs": [
        {
          "output_type": "stream",
          "text": [
            "_________________________________________________________________\n",
            "Layer (type)                 Output Shape              Param #   \n",
            "=================================================================\n",
            "input_5 (InputLayer)         (None, 1)                 0         \n",
            "_________________________________________________________________\n",
            "embedding_4 (Embedding)      (None, 1, 8)              24544     \n",
            "_________________________________________________________________\n",
            "flatten_3 (Flatten)          (None, 8)                 0         \n",
            "_________________________________________________________________\n",
            "dense_7 (Dense)              (None, 10)                90        \n",
            "_________________________________________________________________\n",
            "dense_8 (Dense)              (None, 1)                 11        \n",
            "=================================================================\n",
            "Total params: 24,645\n",
            "Trainable params: 24,645\n",
            "Non-trainable params: 0\n",
            "_________________________________________________________________\n"
          ],
          "name": "stdout"
        }
      ]
    },
    {
      "metadata": {
        "id": "QM_q4sBRo4wo",
        "colab_type": "code",
        "colab": {
          "base_uri": "https://localhost:8080/",
          "height": 867
        },
        "outputId": "7d14aaec-7ffd-45ee-b4de-debf12434358"
      },
      "cell_type": "code",
      "source": [
        "BATCH_SIZE = 4096\n",
        "EPOCHS = 20000\n",
        "FILE_PATH=\"best.hdf5\"\n",
        "\n",
        "checkpoint = ModelCheckpoint(FILE_PATH, monitor='val_loss', save_best_only=True)\n",
        "early = EarlyStopping(monitor=\"val_loss\", mode=\"min\", patience=5)\n",
        "callbacks_list = [checkpoint, early] #early\n",
        "\n",
        "model = build_model()\n",
        "model.fit(\n",
        "    train['image_top_1'], \n",
        "    train['deal_probability'], \n",
        "    validation_split=0.2,\n",
        "    shuffle=True, \n",
        "    batch_size=BATCH_SIZE, \n",
        "    epochs=EPOCHS, \n",
        "    callbacks=callbacks_list)"
      ],
      "execution_count": 19,
      "outputs": [
        {
          "output_type": "stream",
          "text": [
            "Train on 1202739 samples, validate on 300685 samples\n",
            "Epoch 1/20000\n",
            "1202739/1202739 [==============================] - 3s 2us/step - loss: 0.3040 - val_loss: 0.2452\n",
            "Epoch 2/20000\n",
            "1202739/1202739 [==============================] - 2s 2us/step - loss: 0.2431 - val_loss: 0.2435\n",
            "Epoch 3/20000\n",
            "1202739/1202739 [==============================] - 2s 2us/step - loss: 0.2424 - val_loss: 0.2433\n",
            "Epoch 4/20000\n",
            "1202739/1202739 [==============================] - 2s 2us/step - loss: 0.2424 - val_loss: 0.2434\n",
            "Epoch 5/20000\n",
            "1202739/1202739 [==============================] - 2s 2us/step - loss: 0.2423 - val_loss: 0.2433\n",
            "Epoch 6/20000\n",
            "1202739/1202739 [==============================] - 2s 2us/step - loss: 0.2423 - val_loss: 0.2433\n",
            "Epoch 7/20000\n",
            "  69632/1202739 [>.............................] - ETA: 2s - loss: 0.2431"
          ],
          "name": "stdout"
        },
        {
          "output_type": "stream",
          "text": [
            "1202739/1202739 [==============================] - 2s 2us/step - loss: 0.2423 - val_loss: 0.2433\n",
            "Epoch 8/20000\n",
            "1202739/1202739 [==============================] - 2s 2us/step - loss: 0.2423 - val_loss: 0.2433\n",
            "Epoch 9/20000\n",
            "1202739/1202739 [==============================] - 2s 2us/step - loss: 0.2423 - val_loss: 0.2433\n",
            "Epoch 10/20000\n",
            "1202739/1202739 [==============================] - 2s 2us/step - loss: 0.2423 - val_loss: 0.2433\n",
            "Epoch 11/20000\n",
            "1202739/1202739 [==============================] - 2s 2us/step - loss: 0.2423 - val_loss: 0.2433\n",
            "Epoch 12/20000\n",
            "1202739/1202739 [==============================] - 2s 2us/step - loss: 0.2423 - val_loss: 0.2433\n",
            "Epoch 13/20000\n",
            " 700416/1202739 [================>.............] - ETA: 0s - loss: 0.2420"
          ],
          "name": "stdout"
        },
        {
          "output_type": "stream",
          "text": [
            "1202739/1202739 [==============================] - 2s 2us/step - loss: 0.2423 - val_loss: 0.2433\n",
            "Epoch 14/20000\n",
            "1202739/1202739 [==============================] - 2s 2us/step - loss: 0.2423 - val_loss: 0.2433\n",
            "Epoch 15/20000\n",
            "1202739/1202739 [==============================] - 2s 2us/step - loss: 0.2423 - val_loss: 0.2433\n",
            "Epoch 16/20000\n",
            "1202739/1202739 [==============================] - 2s 2us/step - loss: 0.2423 - val_loss: 0.2433\n",
            "Epoch 17/20000\n",
            "1202739/1202739 [==============================] - 2s 2us/step - loss: 0.2422 - val_loss: 0.2433\n",
            "Epoch 18/20000\n",
            "1202739/1202739 [==============================] - 2s 2us/step - loss: 0.2422 - val_loss: 0.2433\n",
            "Epoch 19/20000\n",
            " 778240/1202739 [==================>...........] - ETA: 0s - loss: 0.2422"
          ],
          "name": "stdout"
        },
        {
          "output_type": "stream",
          "text": [
            "1202739/1202739 [==============================] - 2s 2us/step - loss: 0.2422 - val_loss: 0.2433\n",
            "Epoch 20/20000\n",
            "1202739/1202739 [==============================] - 2s 2us/step - loss: 0.2422 - val_loss: 0.2433\n",
            "Epoch 21/20000\n",
            "1202739/1202739 [==============================] - 2s 2us/step - loss: 0.2422 - val_loss: 0.2433\n",
            "Epoch 22/20000\n",
            "1202739/1202739 [==============================] - 2s 2us/step - loss: 0.2422 - val_loss: 0.2433\n",
            "Epoch 23/20000\n",
            "1202739/1202739 [==============================] - 2s 2us/step - loss: 0.2422 - val_loss: 0.2433\n",
            "Epoch 24/20000\n",
            "1202739/1202739 [==============================] - 2s 2us/step - loss: 0.2422 - val_loss: 0.2433\n"
          ],
          "name": "stdout"
        },
        {
          "output_type": "execute_result",
          "data": {
            "text/plain": [
              "<keras.callbacks.History at 0x7fcb51e51630>"
            ]
          },
          "metadata": {
            "tags": []
          },
          "execution_count": 19
        }
      ]
    },
    {
      "metadata": {
        "id": "bQkPmQlJzmop",
        "colab_type": "code",
        "colab": {
          "base_uri": "https://localhost:8080/",
          "height": 34
        },
        "outputId": "8f38b951-14bf-4794-d0ea-a360264d43ce"
      },
      "cell_type": "code",
      "source": [
        "from keras.models import load_model\n",
        "model = load_model(FILE_PATH, custom_objects={'rmse': rmse})\n",
        "\n",
        "metric = model.evaluate(\n",
        "    train['image_top_1'], \n",
        "    train['deal_probability'],\n",
        "    batch_size=BATCH_SIZE\n",
        ")\n",
        "metric"
      ],
      "execution_count": 20,
      "outputs": [
        {
          "output_type": "stream",
          "text": [
            "1503424/1503424 [==============================] - 1s 1us/step\n"
          ],
          "name": "stdout"
        }
      ]
    },
    {
      "metadata": {
        "id": "ndG63HKNYtCj",
        "colab_type": "code",
        "colab": {}
      },
      "cell_type": "code",
      "source": [
        "SUBMISSION_FILE='baseline.csv'\n",
        "SUBMISSION_MESSAGE='\"Baseline %f\"'%metric\n",
        "\n",
        "submission['deal_probability'] = model.predict(\n",
        "    pd.merge(submission, test[['item_id', 'image_top_1']], how='left', on='item_id')['image_top_1'],\n",
        "    batch_size=BATCH_SIZE\n",
        ")\n",
        "submission.to_csv(SUBMISSION_FILE, index=False)"
      ],
      "execution_count": 0,
      "outputs": []
    },
    {
      "metadata": {
        "id": "tCZluGeOZHVX",
        "colab_type": "code",
        "colab": {
          "base_uri": "https://localhost:8080/",
          "height": 51
        },
        "outputId": "62c4e17e-1a10-473b-b394-85462d60a716"
      },
      "cell_type": "code",
      "source": [
        "!kaggle competitions submit -f {SUBMISSION_FILE} -m {SUBMISSION_MESSAGE}"
      ],
      "execution_count": 22,
      "outputs": [
        {
          "output_type": "stream",
          "text": [
            "Using competition: avito-demand-prediction\r\n",
            "Successfully submitted to Avito Demand Prediction Challenge"
          ],
          "name": "stdout"
        }
      ]
    },
    {
      "metadata": {
        "id": "6BAZNM940TbG",
        "colab_type": "code",
        "colab": {}
      },
      "cell_type": "code",
      "source": [
        ""
      ],
      "execution_count": 0,
      "outputs": []
    }
  ]
}