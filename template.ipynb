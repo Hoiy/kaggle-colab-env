{
  "nbformat": 4,
  "nbformat_minor": 0,
  "metadata": {
    "colab": {
      "name": "template.ipynb",
      "version": "0.3.2",
      "provenance": [],
      "collapsed_sections": []
    },
    "kernelspec": {
      "name": "python3",
      "display_name": "Python 3"
    },
    "accelerator": "GPU"
  },
  "cells": [
    {
      "cell_type": "markdown",
      "metadata": {
        "id": "view-in-github",
        "colab_type": "text"
      },
      "source": [
        "[View in Colaboratory](https://colab.research.google.com/github/Hoiy/kaggle-colab-env/blob/master/template.ipynb)"
      ]
    },
    {
      "metadata": {
        "id": "rGL2W37Qi10r",
        "colab_type": "code",
        "colab": {}
      },
      "cell_type": "code",
      "source": [
        "import pandas as pd"
      ],
      "execution_count": 0,
      "outputs": []
    },
    {
      "metadata": {
        "id": "FY5p9vjFi8iO",
        "colab_type": "code",
        "colab": {}
      },
      "cell_type": "code",
      "source": [
        "train = pd.read_csv('./data/train.csv.zip')\n",
        "test = pd.read_csv('./data/test.csv.zip')\n",
        "submission = pd.read_csv('./data/sample_submission.csv')"
      ],
      "execution_count": 0,
      "outputs": []
    },
    {
      "metadata": {
        "id": "dsUSltWAjF8F",
        "colab_type": "code",
        "colab": {
          "base_uri": "https://localhost:8080/",
          "height": 34
        },
        "outputId": "8889fa88-32eb-4121-867e-e65d1fe3d307"
      },
      "cell_type": "code",
      "source": [
        "train.shape, test.shape"
      ],
      "execution_count": 9,
      "outputs": [
        {
          "output_type": "execute_result",
          "data": {
            "text/plain": [
              "((1503424, 18), (508438, 17))"
            ]
          },
          "metadata": {
            "tags": []
          },
          "execution_count": 9
        }
      ]
    },
    {
      "metadata": {
        "id": "i4g2T-sFjqfp",
        "colab_type": "code",
        "colab": {
          "base_uri": "https://localhost:8080/",
          "height": 377
        },
        "outputId": "1c08cd21-bf12-41f8-bf59-5b45993d1862"
      },
      "cell_type": "code",
      "source": [
        "train.head()"
      ],
      "execution_count": 10,
      "outputs": [
        {
          "output_type": "execute_result",
          "data": {
            "text/html": [
              "<div>\n",
              "<style scoped>\n",
              "    .dataframe tbody tr th:only-of-type {\n",
              "        vertical-align: middle;\n",
              "    }\n",
              "\n",
              "    .dataframe tbody tr th {\n",
              "        vertical-align: top;\n",
              "    }\n",
              "\n",
              "    .dataframe thead th {\n",
              "        text-align: right;\n",
              "    }\n",
              "</style>\n",
              "<table border=\"1\" class=\"dataframe\">\n",
              "  <thead>\n",
              "    <tr style=\"text-align: right;\">\n",
              "      <th></th>\n",
              "      <th>item_id</th>\n",
              "      <th>user_id</th>\n",
              "      <th>region</th>\n",
              "      <th>city</th>\n",
              "      <th>parent_category_name</th>\n",
              "      <th>category_name</th>\n",
              "      <th>param_1</th>\n",
              "      <th>param_2</th>\n",
              "      <th>param_3</th>\n",
              "      <th>title</th>\n",
              "      <th>description</th>\n",
              "      <th>price</th>\n",
              "      <th>item_seq_number</th>\n",
              "      <th>activation_date</th>\n",
              "      <th>user_type</th>\n",
              "      <th>image</th>\n",
              "      <th>image_top_1</th>\n",
              "      <th>deal_probability</th>\n",
              "    </tr>\n",
              "  </thead>\n",
              "  <tbody>\n",
              "    <tr>\n",
              "      <th>0</th>\n",
              "      <td>b912c3c6a6ad</td>\n",
              "      <td>e00f8ff2eaf9</td>\n",
              "      <td>Свердловская область</td>\n",
              "      <td>Екатеринбург</td>\n",
              "      <td>Личные вещи</td>\n",
              "      <td>Товары для детей и игрушки</td>\n",
              "      <td>Постельные принадлежности</td>\n",
              "      <td>NaN</td>\n",
              "      <td>NaN</td>\n",
              "      <td>Кокоби(кокон для сна)</td>\n",
              "      <td>Кокон для сна малыша,пользовались меньше месяц...</td>\n",
              "      <td>400.0</td>\n",
              "      <td>2</td>\n",
              "      <td>2017-03-28</td>\n",
              "      <td>Private</td>\n",
              "      <td>d10c7e016e03247a3bf2d13348fe959fe6f436c1caf64c...</td>\n",
              "      <td>1008.0</td>\n",
              "      <td>0.12789</td>\n",
              "    </tr>\n",
              "    <tr>\n",
              "      <th>1</th>\n",
              "      <td>2dac0150717d</td>\n",
              "      <td>39aeb48f0017</td>\n",
              "      <td>Самарская область</td>\n",
              "      <td>Самара</td>\n",
              "      <td>Для дома и дачи</td>\n",
              "      <td>Мебель и интерьер</td>\n",
              "      <td>Другое</td>\n",
              "      <td>NaN</td>\n",
              "      <td>NaN</td>\n",
              "      <td>Стойка для Одежды</td>\n",
              "      <td>Стойка для одежды, под вешалки. С бутика.</td>\n",
              "      <td>3000.0</td>\n",
              "      <td>19</td>\n",
              "      <td>2017-03-26</td>\n",
              "      <td>Private</td>\n",
              "      <td>79c9392cc51a9c81c6eb91eceb8e552171db39d7142700...</td>\n",
              "      <td>692.0</td>\n",
              "      <td>0.00000</td>\n",
              "    </tr>\n",
              "    <tr>\n",
              "      <th>2</th>\n",
              "      <td>ba83aefab5dc</td>\n",
              "      <td>91e2f88dd6e3</td>\n",
              "      <td>Ростовская область</td>\n",
              "      <td>Ростов-на-Дону</td>\n",
              "      <td>Бытовая электроника</td>\n",
              "      <td>Аудио и видео</td>\n",
              "      <td>Видео, DVD и Blu-ray плееры</td>\n",
              "      <td>NaN</td>\n",
              "      <td>NaN</td>\n",
              "      <td>Philips bluray</td>\n",
              "      <td>В хорошем состоянии, домашний кинотеатр с blu ...</td>\n",
              "      <td>4000.0</td>\n",
              "      <td>9</td>\n",
              "      <td>2017-03-20</td>\n",
              "      <td>Private</td>\n",
              "      <td>b7f250ee3f39e1fedd77c141f273703f4a9be59db4b48a...</td>\n",
              "      <td>3032.0</td>\n",
              "      <td>0.43177</td>\n",
              "    </tr>\n",
              "    <tr>\n",
              "      <th>3</th>\n",
              "      <td>02996f1dd2ea</td>\n",
              "      <td>bf5cccea572d</td>\n",
              "      <td>Татарстан</td>\n",
              "      <td>Набережные Челны</td>\n",
              "      <td>Личные вещи</td>\n",
              "      <td>Товары для детей и игрушки</td>\n",
              "      <td>Автомобильные кресла</td>\n",
              "      <td>NaN</td>\n",
              "      <td>NaN</td>\n",
              "      <td>Автокресло</td>\n",
              "      <td>Продам кресло от0-25кг</td>\n",
              "      <td>2200.0</td>\n",
              "      <td>286</td>\n",
              "      <td>2017-03-25</td>\n",
              "      <td>Company</td>\n",
              "      <td>e6ef97e0725637ea84e3d203e82dadb43ed3cc0a1c8413...</td>\n",
              "      <td>796.0</td>\n",
              "      <td>0.80323</td>\n",
              "    </tr>\n",
              "    <tr>\n",
              "      <th>4</th>\n",
              "      <td>7c90be56d2ab</td>\n",
              "      <td>ef50846afc0b</td>\n",
              "      <td>Волгоградская область</td>\n",
              "      <td>Волгоград</td>\n",
              "      <td>Транспорт</td>\n",
              "      <td>Автомобили</td>\n",
              "      <td>С пробегом</td>\n",
              "      <td>ВАЗ (LADA)</td>\n",
              "      <td>2110</td>\n",
              "      <td>ВАЗ 2110, 2003</td>\n",
              "      <td>Все вопросы по телефону.</td>\n",
              "      <td>40000.0</td>\n",
              "      <td>3</td>\n",
              "      <td>2017-03-16</td>\n",
              "      <td>Private</td>\n",
              "      <td>54a687a3a0fc1d68aed99bdaaf551c5c70b761b16fd0a2...</td>\n",
              "      <td>2264.0</td>\n",
              "      <td>0.20797</td>\n",
              "    </tr>\n",
              "  </tbody>\n",
              "</table>\n",
              "</div>"
            ],
            "text/plain": [
              "        item_id       user_id                 region              city  \\\n",
              "0  b912c3c6a6ad  e00f8ff2eaf9   Свердловская область      Екатеринбург   \n",
              "1  2dac0150717d  39aeb48f0017      Самарская область            Самара   \n",
              "2  ba83aefab5dc  91e2f88dd6e3     Ростовская область    Ростов-на-Дону   \n",
              "3  02996f1dd2ea  bf5cccea572d              Татарстан  Набережные Челны   \n",
              "4  7c90be56d2ab  ef50846afc0b  Волгоградская область         Волгоград   \n",
              "\n",
              "  parent_category_name               category_name  \\\n",
              "0          Личные вещи  Товары для детей и игрушки   \n",
              "1      Для дома и дачи           Мебель и интерьер   \n",
              "2  Бытовая электроника               Аудио и видео   \n",
              "3          Личные вещи  Товары для детей и игрушки   \n",
              "4            Транспорт                  Автомобили   \n",
              "\n",
              "                       param_1     param_2 param_3                  title  \\\n",
              "0    Постельные принадлежности         NaN     NaN  Кокоби(кокон для сна)   \n",
              "1                       Другое         NaN     NaN      Стойка для Одежды   \n",
              "2  Видео, DVD и Blu-ray плееры         NaN     NaN         Philips bluray   \n",
              "3         Автомобильные кресла         NaN     NaN             Автокресло   \n",
              "4                   С пробегом  ВАЗ (LADA)    2110         ВАЗ 2110, 2003   \n",
              "\n",
              "                                         description    price  \\\n",
              "0  Кокон для сна малыша,пользовались меньше месяц...    400.0   \n",
              "1          Стойка для одежды, под вешалки. С бутика.   3000.0   \n",
              "2  В хорошем состоянии, домашний кинотеатр с blu ...   4000.0   \n",
              "3                             Продам кресло от0-25кг   2200.0   \n",
              "4                           Все вопросы по телефону.  40000.0   \n",
              "\n",
              "   item_seq_number activation_date user_type  \\\n",
              "0                2      2017-03-28   Private   \n",
              "1               19      2017-03-26   Private   \n",
              "2                9      2017-03-20   Private   \n",
              "3              286      2017-03-25   Company   \n",
              "4                3      2017-03-16   Private   \n",
              "\n",
              "                                               image  image_top_1  \\\n",
              "0  d10c7e016e03247a3bf2d13348fe959fe6f436c1caf64c...       1008.0   \n",
              "1  79c9392cc51a9c81c6eb91eceb8e552171db39d7142700...        692.0   \n",
              "2  b7f250ee3f39e1fedd77c141f273703f4a9be59db4b48a...       3032.0   \n",
              "3  e6ef97e0725637ea84e3d203e82dadb43ed3cc0a1c8413...        796.0   \n",
              "4  54a687a3a0fc1d68aed99bdaaf551c5c70b761b16fd0a2...       2264.0   \n",
              "\n",
              "   deal_probability  \n",
              "0           0.12789  \n",
              "1           0.00000  \n",
              "2           0.43177  \n",
              "3           0.80323  \n",
              "4           0.20797  "
            ]
          },
          "metadata": {
            "tags": []
          },
          "execution_count": 10
        }
      ]
    },
    {
      "metadata": {
        "id": "HGt6jROdledZ",
        "colab_type": "code",
        "colab": {
          "base_uri": "https://localhost:8080/",
          "height": 238
        },
        "outputId": "93ee32fe-6469-4666-be1a-069e053a9cf5"
      },
      "cell_type": "code",
      "source": [
        "from keras.models import Model\n",
        "from keras.layers import Dense, Embedding, Input, Flatten\n",
        "from keras.layers import LSTM, Bidirectional, GlobalMaxPool1D, Dropout, GRU, Conv1D, Reshape, MaxPooling1D, Concatenate\n",
        "from keras.callbacks import EarlyStopping, ModelCheckpoint\n",
        "from keras.regularizers import l2\n",
        "from keras.constraints import non_neg, unit_norm\n",
        "import keras.backend as K\n",
        "from keras.metrics import mse\n",
        "import tensorflow as tf\n",
        "\n",
        "def rmse(y_true, y_pred):\n",
        "    # bug when K.sqrt(mse(y_true, y_pred))\n",
        "    return tf.sqrt(tf.reduce_mean(tf.square(tf.subtract(y_true, y_pred))))\n",
        "\n",
        "def build_model():\n",
        "    inp = Input(shape=(1, ))\n",
        "    hidden = Dense(1, activation='relu')(inp)\n",
        "    out = Dense(1, activation=\"sigmoid\")(hidden)\n",
        "    \n",
        "    model = Model(inputs=inp, outputs=out)\n",
        "    model.compile(loss=rmse,\n",
        "                  optimizer='adam')\n",
        "    return model\n",
        "\n",
        "model = build_model()\n",
        "model.summary()"
      ],
      "execution_count": 66,
      "outputs": [
        {
          "output_type": "stream",
          "text": [
            "_________________________________________________________________\n",
            "Layer (type)                 Output Shape              Param #   \n",
            "=================================================================\n",
            "input_40 (InputLayer)        (None, 1)                 0         \n",
            "_________________________________________________________________\n",
            "dense_82 (Dense)             (None, 1)                 2         \n",
            "_________________________________________________________________\n",
            "dense_83 (Dense)             (None, 1)                 2         \n",
            "=================================================================\n",
            "Total params: 4\n",
            "Trainable params: 4\n",
            "Non-trainable params: 0\n",
            "_________________________________________________________________\n"
          ],
          "name": "stdout"
        }
      ]
    },
    {
      "metadata": {
        "id": "QM_q4sBRo4wo",
        "colab_type": "code",
        "colab": {
          "base_uri": "https://localhost:8080/",
          "height": 969
        },
        "outputId": "7af225fa-c30f-4e1d-827f-0111a6901b22"
      },
      "cell_type": "code",
      "source": [
        "BATCH_SIZE = 4096\n",
        "EPOCHS = 20000\n",
        "FILE_PATH=\"best.hdf5\"\n",
        "\n",
        "checkpoint = ModelCheckpoint(FILE_PATH, monitor='val_loss', save_best_only=True)\n",
        "early = EarlyStopping(monitor=\"val_loss\", mode=\"min\", patience=5)\n",
        "callbacks_list = [checkpoint, early] #early\n",
        "\n",
        "model = build_model()\n",
        "model.fit(\n",
        "    train['image_top_1'], \n",
        "    train['deal_probability'], \n",
        "    validation_split=0.2,\n",
        "    shuffle=True, \n",
        "    batch_size=BATCH_SIZE, \n",
        "    epochs=EPOCHS, \n",
        "    callbacks=callbacks_list)"
      ],
      "execution_count": 67,
      "outputs": [
        {
          "output_type": "stream",
          "text": [
            "Train on 1202739 samples, validate on 300685 samples\n",
            "Epoch 1/20000\n",
            "1202739/1202739 [==============================] - 3s 2us/step - loss: 0.4163 - val_loss: 0.3894\n",
            "Epoch 2/20000\n",
            "1202739/1202739 [==============================] - 2s 2us/step - loss: 0.3657 - val_loss: 0.3447\n",
            "Epoch 3/20000\n",
            "1202739/1202739 [==============================] - 2s 2us/step - loss: 0.3274 - val_loss: 0.3127\n",
            "Epoch 4/20000\n",
            "1202739/1202739 [==============================] - 2s 2us/step - loss: 0.3010 - val_loss: 0.2917\n",
            "Epoch 5/20000\n",
            "1202739/1202739 [==============================] - 2s 2us/step - loss: 0.2843 - val_loss: 0.2787\n",
            "Epoch 6/20000\n",
            "1202739/1202739 [==============================] - 2s 2us/step - loss: 0.2740 - val_loss: 0.2710\n",
            "Epoch 7/20000\n",
            " 745472/1202739 [=================>............] - ETA: 0s - loss: 0.2690"
          ],
          "name": "stdout"
        },
        {
          "output_type": "stream",
          "text": [
            "1202739/1202739 [==============================] - 2s 2us/step - loss: 0.2680 - val_loss: 0.2664\n",
            "Epoch 8/20000\n",
            "1202739/1202739 [==============================] - 2s 2us/step - loss: 0.2644 - val_loss: 0.2637\n",
            "Epoch 9/20000\n",
            "1202739/1202739 [==============================] - 2s 2us/step - loss: 0.2624 - val_loss: 0.2622\n",
            "Epoch 10/20000\n",
            "1202739/1202739 [==============================] - 2s 2us/step - loss: 0.2612 - val_loss: 0.2614\n",
            "Epoch 11/20000\n",
            "1202739/1202739 [==============================] - 2s 2us/step - loss: 0.2606 - val_loss: 0.2609\n",
            "Epoch 12/20000\n",
            "1202739/1202739 [==============================] - 2s 2us/step - loss: 0.2602 - val_loss: 0.2607\n",
            "Epoch 13/20000\n",
            "1202739/1202739 [==============================] - 2s 2us/step - loss: 0.2601 - val_loss: 0.2605\n",
            "Epoch 14/20000\n",
            " 307200/1202739 [======>.......................] - ETA: 1s - loss: 0.2603"
          ],
          "name": "stdout"
        },
        {
          "output_type": "stream",
          "text": [
            "1202739/1202739 [==============================] - 2s 2us/step - loss: 0.2600 - val_loss: 0.2605\n",
            "Epoch 15/20000\n",
            "1202739/1202739 [==============================] - 2s 2us/step - loss: 0.2600 - val_loss: 0.2605\n",
            "Epoch 16/20000\n",
            "1202739/1202739 [==============================] - 2s 2us/step - loss: 0.2599 - val_loss: 0.2605\n",
            "Epoch 17/20000\n",
            "1202739/1202739 [==============================] - 2s 2us/step - loss: 0.2599 - val_loss: 0.2605\n",
            "Epoch 18/20000\n",
            "1202739/1202739 [==============================] - 2s 2us/step - loss: 0.2599 - val_loss: 0.2605\n",
            "Epoch 19/20000\n",
            "1202739/1202739 [==============================] - 2s 2us/step - loss: 0.2599 - val_loss: 0.2605\n",
            "Epoch 20/20000\n",
            "1202739/1202739 [==============================] - 2s 2us/step - loss: 0.2599 - val_loss: 0.2605\n",
            "Epoch 21/20000\n",
            " 188416/1202739 [===>..........................] - ETA: 1s - loss: 0.2612"
          ],
          "name": "stdout"
        },
        {
          "output_type": "stream",
          "text": [
            "1202739/1202739 [==============================] - 2s 2us/step - loss: 0.2599 - val_loss: 0.2605\n",
            "Epoch 22/20000\n",
            "1202739/1202739 [==============================] - 2s 2us/step - loss: 0.2599 - val_loss: 0.2605\n",
            "Epoch 23/20000\n",
            "1202739/1202739 [==============================] - 2s 2us/step - loss: 0.2599 - val_loss: 0.2605\n",
            "Epoch 24/20000\n",
            "1202739/1202739 [==============================] - 2s 2us/step - loss: 0.2599 - val_loss: 0.2605\n",
            "Epoch 25/20000\n",
            "1202739/1202739 [==============================] - 2s 2us/step - loss: 0.2599 - val_loss: 0.2605\n",
            "Epoch 26/20000\n",
            "1202739/1202739 [==============================] - 2s 2us/step - loss: 0.2599 - val_loss: 0.2605\n",
            "Epoch 27/20000\n",
            "1202739/1202739 [==============================] - 2s 2us/step - loss: 0.2599 - val_loss: 0.2605\n"
          ],
          "name": "stdout"
        },
        {
          "output_type": "execute_result",
          "data": {
            "text/plain": [
              "<keras.callbacks.History at 0x7f9e5d794be0>"
            ]
          },
          "metadata": {
            "tags": []
          },
          "execution_count": 67
        }
      ]
    },
    {
      "metadata": {
        "id": "bQkPmQlJzmop",
        "colab_type": "code",
        "colab": {
          "base_uri": "https://localhost:8080/",
          "height": 51
        },
        "outputId": "563b594d-b882-42b0-f6e3-5747791618b6"
      },
      "cell_type": "code",
      "source": [
        "from keras.models import load_model\n",
        "model = load_model(FILE_PATH, custom_objects={'rmse': rmse})\n",
        "\n",
        "model.evaluate(\n",
        "    train['image_top_1'], \n",
        "    train['deal_probability'],\n",
        "    batch_size=BATCH_SIZE\n",
        ")"
      ],
      "execution_count": 68,
      "outputs": [
        {
          "output_type": "stream",
          "text": [
            "1503424/1503424 [==============================] - 1s 1us/step\n"
          ],
          "name": "stdout"
        },
        {
          "output_type": "execute_result",
          "data": {
            "text/plain": [
              "0.2600449546134455"
            ]
          },
          "metadata": {
            "tags": []
          },
          "execution_count": 68
        }
      ]
    },
    {
      "metadata": {
        "id": "ndG63HKNYtCj",
        "colab_type": "code",
        "colab": {}
      },
      "cell_type": "code",
      "source": [
        "SUBMISSION_FILE='baseline.csv'\n",
        "SUBMISSION_MESSAGE='\"Baseline 0.2600\"'\n",
        "\n",
        "submission['deal_probability'] = model.predict(\n",
        "    pd.merge(submission, test[['item_id', 'image_top_1']], how='left', on='item_id')['image_top_1'],\n",
        "    batch_size=BATCH_SIZE\n",
        ")\n",
        "submission.to_csv(SUBMISSION_FILE, index=False)"
      ],
      "execution_count": 0,
      "outputs": []
    },
    {
      "metadata": {
        "id": "tCZluGeOZHVX",
        "colab_type": "code",
        "colab": {
          "base_uri": "https://localhost:8080/",
          "height": 51
        },
        "outputId": "939ccbb6-916f-4fde-b37a-4b1defc4feec"
      },
      "cell_type": "code",
      "source": [
        "!kaggle competitions submit -f {SUBMISSION_FILE} -m {SUBMISSION_MESSAGE}"
      ],
      "execution_count": 89,
      "outputs": [
        {
          "output_type": "stream",
          "text": [
            "Using competition: avito-demand-prediction\r\n",
            "Successfully submitted to Avito Demand Prediction Challenge"
          ],
          "name": "stdout"
        }
      ]
    }
  ]
}